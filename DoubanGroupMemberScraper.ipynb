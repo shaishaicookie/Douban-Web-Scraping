{
 "cells": [
  {
   "cell_type": "code",
   "execution_count": 1,
   "metadata": {},
   "outputs": [],
   "source": [
    "import requests\n",
    "from bs4 import BeautifulSoup\n",
    "import pandas"
   ]
  },
  {
   "cell_type": "code",
   "execution_count": 3,
   "id": "665fcb21",
   "metadata": {},
   "outputs": [],
   "source": [
    "def findGroupPageNumber(groupID):\n",
    "    startURL = \"https://www.douban.com/group/\" + str(groupID) + \"/members?start=0\"\n",
    "    r = requests.get(startURL, headers={'User-agent': 'Mozilla/5.0 (X11; Ubuntu; Linux x86_64; rv:61.0) Gecko/20100101 Firefox/61.0'})\n",
    "    c = r.content\n",
    "    soup = BeautifulSoup(c, \"html.parser\")\n",
    "    pageNumber = int(soup.find(\"span\", {\"class\":\"thispage\"}).attrs[\"data-total-page\"])\n",
    "    return pageNumber"
   ]
  },
  {
   "cell_type": "code",
   "execution_count": 4,
   "id": "32d166eb",
   "metadata": {},
   "outputs": [],
   "source": [
    "def doubanGroupMemberSpider(groupID):\n",
    "    result = []\n",
    "    baseURL = \"https://www.douban.com/group/\" + str(groupID) + \"/members?start=\"\n",
    "    pageNumber = findGroupPageNumber(groupID)\n",
    "    for page in range(0, pageNumber*36, 36):\n",
    "        currentPageURL = baseURL + str(page)\n",
    "        r = requests.get(currentPageURL, headers={'User-agent': 'Mozilla/5.0 (X11; Ubuntu; Linux x86_64; rv:61.0) Gecko/20100101 Firefox/61.0'})\n",
    "        c = r.content\n",
    "        soup = BeautifulSoup(c, \"html.parser\")\n",
    "        all = soup.find_all(\"div\", {\"class\":\"name\"})\n",
    "        for item in all:\n",
    "            info = {}\n",
    "            # Username 用户名\n",
    "            info[\"UserName\"] = item.find(\"a\").text\n",
    "            # Location 用户地点\n",
    "            try:\n",
    "                info[\"Location\"] = item.find(\"span\", {\"class\":\"pl\"}).text[1:-1]\n",
    "            except:\n",
    "                info[\"Location\"] = None\n",
    "            # User Home Page URL 用户主页网址\n",
    "            userHomeURL = item.find('a').attrs['href']\n",
    "            info[\"UserID\"] = userHomeURL.replace(\"https://www.douban.com/people\", \"\")[1:-1]\n",
    "            info[\"PersonalHomePgae\"] = userHomeURL\n",
    "            result.append(info)\n",
    "    df = pandas.DataFrame(result)\n",
    "    return df"
   ]
  },
  {
   "cell_type": "code",
   "execution_count": 5,
   "id": "2b137cca",
   "metadata": {},
   "outputs": [],
   "source": [
    "# Check whether a user is in this group\n",
    "def isIN(groupID, inputUserID):\n",
    "    groupInfo = doubanGroupMemberSpider(groupID)\n",
    "    groupIDs = groupInfo[\"UserID\"].values\n",
    "    return inputUserID in groupIDs"
   ]
  },
  {
   "cell_type": "code",
   "execution_count": 7,
   "id": "3dfba2df",
   "metadata": {},
   "outputs": [
    {
     "data": {
      "text/html": [
       "<div>\n",
       "<style scoped>\n",
       "    .dataframe tbody tr th:only-of-type {\n",
       "        vertical-align: middle;\n",
       "    }\n",
       "\n",
       "    .dataframe tbody tr th {\n",
       "        vertical-align: top;\n",
       "    }\n",
       "\n",
       "    .dataframe thead th {\n",
       "        text-align: right;\n",
       "    }\n",
       "</style>\n",
       "<table border=\"1\" class=\"dataframe\">\n",
       "  <thead>\n",
       "    <tr style=\"text-align: right;\">\n",
       "      <th></th>\n",
       "      <th>UserName</th>\n",
       "      <th>Location</th>\n",
       "      <th>UserID</th>\n",
       "      <th>PersonalHomePgae</th>\n",
       "    </tr>\n",
       "  </thead>\n",
       "  <tbody>\n",
       "    <tr>\n",
       "      <th>25057</th>\n",
       "      <td>随心</td>\n",
       "      <td>青岛</td>\n",
       "      <td>208889978</td>\n",
       "      <td>https://www.douban.com/people/208889978/</td>\n",
       "    </tr>\n",
       "    <tr>\n",
       "      <th>25058</th>\n",
       "      <td>已注销</td>\n",
       "      <td>上海</td>\n",
       "      <td>nuts93</td>\n",
       "      <td>https://www.douban.com/people/nuts93/</td>\n",
       "    </tr>\n",
       "    <tr>\n",
       "      <th>25059</th>\n",
       "      <td>爱吃饭的镁</td>\n",
       "      <td></td>\n",
       "      <td>181577509</td>\n",
       "      <td>https://www.douban.com/people/181577509/</td>\n",
       "    </tr>\n",
       "    <tr>\n",
       "      <th>25060</th>\n",
       "      <td>🍒</td>\n",
       "      <td></td>\n",
       "      <td>179741179</td>\n",
       "      <td>https://www.douban.com/people/179741179/</td>\n",
       "    </tr>\n",
       "    <tr>\n",
       "      <th>25061</th>\n",
       "      <td>做你说过的</td>\n",
       "      <td></td>\n",
       "      <td>181266328</td>\n",
       "      <td>https://www.douban.com/people/181266328/</td>\n",
       "    </tr>\n",
       "  </tbody>\n",
       "</table>\n",
       "</div>"
      ],
      "text/plain": [
       "      UserName Location     UserID                          PersonalHomePgae\n",
       "25057       随心       青岛  208889978  https://www.douban.com/people/208889978/\n",
       "25058      已注销       上海     nuts93     https://www.douban.com/people/nuts93/\n",
       "25059    爱吃饭的镁           181577509  https://www.douban.com/people/181577509/\n",
       "25060        🍒           179741179  https://www.douban.com/people/179741179/\n",
       "25061    做你说过的           181266328  https://www.douban.com/people/181266328/"
      ]
     },
     "execution_count": 7,
     "metadata": {},
     "output_type": "execute_result"
    }
   ],
   "source": [
    "groupID = 698362\n",
    "Group698362 = doubanGroupMemberSpider(groupID)\n",
    "Group698362.tail()"
   ]
  }
 ],
 "metadata": {
  "interpreter": {
   "hash": "9b5ff723cd38cf7d359aa2bf5fe7978a9ff73d1f62f5b88243d6c54060f370c5"
  },
  "kernelspec": {
   "display_name": "Python 3.9.7 64-bit ('base': conda)",
   "language": "python",
   "name": "python3"
  },
  "language_info": {
   "codemirror_mode": {
    "name": "ipython",
    "version": 3
   },
   "file_extension": ".py",
   "mimetype": "text/x-python",
   "name": "python",
   "nbconvert_exporter": "python",
   "pygments_lexer": "ipython3",
   "version": "3.9.7"
  }
 },
 "nbformat": 4,
 "nbformat_minor": 5
}
